{
 "cells": [
  {
   "cell_type": "markdown",
   "metadata": {},
   "source": [
    "### 1. Import"
   ]
  },
  {
   "cell_type": "code",
   "execution_count": 1,
   "metadata": {},
   "outputs": [
    {
     "name": "stderr",
     "output_type": "stream",
     "text": [
      "/home/yukik/.pyenv/versions/3.10.7/lib/python3.10/site-packages/tqdm/auto.py:21: TqdmWarning: IProgress not found. Please update jupyter and ipywidgets. See https://ipywidgets.readthedocs.io/en/stable/user_install.html\n",
      "  from .autonotebook import tqdm as notebook_tqdm\n"
     ]
    }
   ],
   "source": [
    "import torch\n",
    "import torch.nn as nn\n",
    "from torch.utils.data import DataLoader, random_split\n",
    "from torchvision import datasets, transforms\n",
    "from torchvision.datasets import CIFAR10"
   ]
  },
  {
   "cell_type": "markdown",
   "metadata": {},
   "source": [
    "### 2. Dataset"
   ]
  },
  {
   "cell_type": "code",
   "execution_count": 2,
   "metadata": {},
   "outputs": [
    {
     "name": "stdout",
     "output_type": "stream",
     "text": [
      "Files already downloaded and verified\n",
      "Files already downloaded and verified\n"
     ]
    }
   ],
   "source": [
    "\n",
    "transform = transforms.Compose([transforms.ToTensor(), \n",
    "                                transforms.Normalize((0.5, 0.5, 0.5), (0.5, 0.5, 0.5))])\n",
    "\n",
    "train_dataset = CIFAR10(root='data', \n",
    "                        train=True, \n",
    "                        transform=transform,\n",
    "                        download=True)\n",
    "train_dataset, val_dataset = random_split(train_dataset, [40000, 10000])\n",
    "test_dataset = CIFAR10(root='data', \n",
    "                        train=False, \n",
    "                        transform=transform,\n",
    "                        download=True)"
   ]
  },
  {
   "cell_type": "markdown",
   "metadata": {},
   "source": [
    "### 3.　可視化"
   ]
  },
  {
   "cell_type": "code",
   "execution_count": 3,
   "metadata": {},
   "outputs": [
    {
     "name": "stderr",
     "output_type": "stream",
     "text": [
      "Clipping input data to the valid range for imshow with RGB data ([0..1] for floats or [0..255] for integers).\n"
     ]
    },
    {
     "data": {
      "image/png": "[encoded data removed]",
      "text/plain": [
       "<Figure size 640x480 with 1 Axes>"
      ]
     },
     "metadata": {},
     "output_type": "display_data"
    }
   ],
   "source": [
    "import matplotlib.pyplot as plt\n",
    "\n",
    "plt.imshow(train_dataset[4][0].permute(1, 2, 0))\n",
    "plt.show()\n",
    "plt.close()"
   ]
  },
  {
   "cell_type": "markdown",
   "metadata": {},
   "source": [
    "### 4. Data Loader"
   ]
  },
  {
   "cell_type": "code",
   "execution_count": 4,
   "metadata": {},
   "outputs": [],
   "source": [
    "train_loader = DataLoader(dataset=train_dataset, batch_size=128, num_workers=4, shuffle=True)\n",
    "val_loader   = DataLoader(dataset=val_dataset,   batch_size=128, num_workers=4, shuffle=False)\n",
    "test_loader  = DataLoader(dataset=test_dataset,  batch_size=128, num_workers=4, shuffle=False)"
   ]
  },
  {
   "cell_type": "markdown",
   "metadata": {},
   "source": [
    "### 5. ViTを実装する"
   ]
  },
  {
   "cell_type": "code",
   "execution_count": 9,
   "metadata": {},
   "outputs": [],
   "source": [
    "from timm.models.vision_transformer import VisionTransformer, _cfg\n",
    "\n",
    "model = VisionTransformer(img_size=32, patch_size=4, num_classes=10, embed_dim=768, depth=12, num_heads=12)"
   ]
  },
  {
   "cell_type": "code",
   "execution_count": 10,
   "metadata": {},
   "outputs": [
    {
     "name": "stdout",
     "output_type": "stream",
     "text": [
      "The Number of params = 85.15201M\n"
     ]
    }
   ],
   "source": [
    "# パラメータカウント\n",
    "params = 0\n",
    "for p in model.parameters():\n",
    "    if p.requires_grad:\n",
    "        params += p.numel()\n",
    "        \n",
    "print(f'The Number of params = {params/10**6}M')"
   ]
  },
  {
   "cell_type": "markdown",
   "metadata": {},
   "source": [
    "### 6. 学習"
   ]
  },
  {
   "cell_type": "code",
   "execution_count": 11,
   "metadata": {},
   "outputs": [],
   "source": [
    "from torch.optim import SGD\n",
    "from sklearn.metrics import accuracy_score\n",
    "\n",
    "criterion = nn.CrossEntropyLoss()\n",
    "optimizer = SGD(model.parameters(), lr=0.01)\n",
    "\n",
    "model = model.to(\"cuda:0\")\n",
    "model.zero_grad()\n",
    "\n",
    "EPOCHS = 10\n",
    "\n",
    "for epoch in range(EPOCHS):\n",
    "    train_loss = []\n",
    "    model.train()\n",
    "    for i, (images, labels) in enumerate(train_loader):\n",
    "        optimizer.zero_grad()\n",
    "        \n",
    "        images = images.to(\"cuda:0\")\n",
    "        labels = labels.to(\"cuda:0\")\n",
    "        \n",
    "        preds = model(images)\n",
    "        \n",
    "        loss = criterion(preds, labels)\n",
    "        train_loss.append(loss.item())\n",
    "        \n",
    "        loss.backward()\n",
    "        optimizer.step()\n",
    "            \n",
    "    val_loss = []\n",
    "    acc_list = []\n",
    "    model.eval()\n",
    "    for i, (images, labels) in enumerate(val_loader):\n",
    "        images = images.to(\"cuda:0\")\n",
    "        labels = labels.to(\"cuda:0\")\n",
    "        \n",
    "        preds = model(images)\n",
    "        loss = criterion(preds, labels)\n",
    "        val_loss.append(loss.item())\n",
    "        \n",
    "        acc = accuracy_score(labels.to('cpu'), preds.to('cpu').argmax(dim=1))\n",
    "        acc_list.append(acc)\n",
    "        \n",
    "    print(f'Epoch: {epoch+1}, '\\\n",
    "          + f'Train Loss: {sum(train_loss)/len(train_loss):.4f}, '\n",
    "          + f'Val Loss: {sum(val_loss)/len(val_loss):.4f}, '\n",
    "          + f'Val Acc: {sum(acc_list)/len(acc_list):.4f}')"
   ]
  },
  {
   "cell_type": "code",
   "execution_count": null,
   "metadata": {},
   "outputs": [],
   "source": []
  }
 ],
 "metadata": {
  "kernelspec": {
   "display_name": "Python 3",
   "language": "python",
   "name": "python3"
  },
  "language_info": {
   "codemirror_mode": {
    "name": "ipython",
    "version": 3
   },
   "file_extension": ".py",
   "mimetype": "text/x-python",
   "name": "python",
   "nbconvert_exporter": "python",
   "pygments_lexer": "ipython3",
   "version": "3.10.7"
  },
  "orig_nbformat": 4
 },
 "nbformat": 4,
 "nbformat_minor": 2
}
